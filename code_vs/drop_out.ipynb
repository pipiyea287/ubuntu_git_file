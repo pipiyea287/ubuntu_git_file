{
 "cells": [
  {
   "cell_type": "markdown",
   "metadata": {},
   "source": [
    "### Dropout\n",
    "We realize a dropout_layer funciton, which dsicards some elements of input tensor x with dropout probability."
   ]
  },
  {
   "cell_type": "code",
   "execution_count": null,
   "metadata": {},
   "outputs": [],
   "source": [
    "import torch\n",
    "from torch import nn\n",
    "from d2l import torch as d2l\n",
    "\n",
    "def dropout_layer(X, dropout):\n",
    "    assert 0 <= dropout <= 1\n",
    "    #in this case, we discard all the elements of input tensor x.\n",
    "    if dropout == 1:\n",
    "        return torch.zeros_like(X)\n",
    "    # in this case, we retain all the elements of the input tensor x.\n",
    "    if dropout == 0:\n",
    "        return X\n",
    "    mask = (torch.Tensor(X.shape).uniform_(0, 1) > dropout).float()\n",
    "    return mask * X / (1.0 -dropout)"
   ]
  }
 ],
 "metadata": {
  "interpreter": {
   "hash": "9eeca2ac9e90d78fc68d48aefa39aa5dcab77f3e08b3873b793282b0bebbdf6e"
  },
  "kernelspec": {
   "display_name": "Python 3.7.11 64-bit ('deep4': conda)",
   "language": "python",
   "name": "python3"
  },
  "language_info": {
   "name": "python",
   "version": "3.7.11"
  },
  "orig_nbformat": 4
 },
 "nbformat": 4,
 "nbformat_minor": 2
}
